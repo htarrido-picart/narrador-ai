{
 "cells": [
  {
   "cell_type": "code",
   "execution_count": 3,
   "id": "943a4db1-4013-4cf0-85bc-bc3530dd7f0f",
   "metadata": {},
   "outputs": [],
   "source": [
    "import os\n",
    "import openai\n",
    "\n",
    "openai.api_key = os.getenv('OPENAI_API_KEY')"
   ]
  },
  {
   "cell_type": "code",
   "execution_count": 2,
   "id": "fa2010ac-33b8-448c-ad30-0c85ed855164",
   "metadata": {},
   "outputs": [],
   "source": [
    "from pathlib import Path\n",
    "from openai import OpenAI\n",
    "client = OpenAI()\n",
    "\n",
    "def narrate(fileName: str, \n",
    "        voice: str = \"onyx\", \n",
    "        doc = str):\n",
    "    speech_file_path = os.path.join(os.getcwd(), fileName)\n",
    "\n",
    "    response = client.audio.speech.create(\n",
    "      model=\"tts-1-hd\",\n",
    "      voice=\"onyx\",\n",
    "      input= doc\n",
    "    )\n",
    "\n",
    "    response.stream_to_file(speech_file_path)"
   ]
  },
  {
   "cell_type": "code",
   "execution_count": 3,
   "id": "75cd77c6-8fa1-4915-887f-3e141fe5744f",
   "metadata": {},
   "outputs": [],
   "source": [
    "def read_markdown_file(file_path):\n",
    "    \"\"\"\n",
    "    Reads the contents of a Markdown file and returns it as a string.\n",
    "    \n",
    "    :param file_path: The path to the Markdown file.\n",
    "    :return: A string containing the contents of the file.\n",
    "    \"\"\"\n",
    "    try:\n",
    "        with open(file_path, 'r', encoding='utf-8') as file:\n",
    "            return file.read()\n",
    "    except FileNotFoundError:\n",
    "        return \"File not found.\"\n",
    "    except Exception as e:\n",
    "        return str(e)"
   ]
  },
  {
   "cell_type": "code",
   "execution_count": 7,
   "id": "f90ae4dc-2003-476a-a14d-313c7c9c1e96",
   "metadata": {},
   "outputs": [],
   "source": [
    "def split_text_forWhisper(text, max_length=4096):\n",
    "    \"\"\"\n",
    "    Splits a text into chunks, each with a maximum length of max_length,\n",
    "    trying to break at full stops or other natural breakpoints.\n",
    "    \"\"\"\n",
    "    chunks = []\n",
    "    while text:\n",
    "        # Find the nearest breakpoint\n",
    "        split_index = min(len(text), max_length)\n",
    "        breakpoint = text.rfind('.', 0, split_index) + 1\n",
    "        if breakpoint == 0:\n",
    "            breakpoint = text.rfind(' ', 0, split_index)\n",
    "        if breakpoint == 0:\n",
    "            breakpoint = split_index\n",
    "        chunks.append(text[:breakpoint].strip())\n",
    "        text = text[breakpoint:].strip()\n",
    "    return chunks"
   ]
  },
  {
   "cell_type": "code",
   "execution_count": 4,
   "id": "176311be-c22c-4141-8fe4-9acc5612a0f7",
   "metadata": {},
   "outputs": [],
   "source": [
    "from pydub import AudioSegment\n",
    "\n",
    "def combine_all_mp3s_in_directory(directory, output_file):\n",
    "    \"\"\"\n",
    "    Search for all mp3 files in the specified directory, combine them into one mp3 file,\n",
    "    and insert a 5-second silence between each file.\n",
    "\n",
    "    :param directory: Path to the directory to search for mp3 files.\n",
    "    :param output_file: Path for the output combined mp3 file.\n",
    "    \"\"\"\n",
    "    # Search for mp3 files in the directory\n",
    "    mp3_files = [f for f in os.listdir(directory) if f.endswith('.mp3')]\n",
    "\n",
    "    combined_sound = None\n",
    "    silence = AudioSegment.silent(duration=5000)  # 5 seconds of silence\n",
    "\n",
    "    # Loop through the found mp3 files and combine them\n",
    "    for file in mp3_files:\n",
    "        file_path = os.path.join(directory, file)\n",
    "        sound = AudioSegment.from_mp3(file_path)\n",
    "\n",
    "        if combined_sound is None:\n",
    "            combined_sound = sound\n",
    "        else:\n",
    "            combined_sound += silence + sound\n",
    "\n",
    "    # Check if any mp3 files were found and combined\n",
    "    if combined_sound:\n",
    "        # Export the combined sound file\n",
    "        combined_sound.export(output_file, format=\"mp3\")\n",
    "        print(f\"Combined MP3 with silence created at {output_file}\")\n",
    "    else:\n",
    "        print(\"No MP3 files found in the directory.\")"
   ]
  },
  {
   "cell_type": "code",
   "execution_count": 8,
   "id": "a1777f85-3323-42b0-88a5-e42489dc25e6",
   "metadata": {},
   "outputs": [
    {
     "name": "stdout",
     "output_type": "stream",
     "text": [
      "# Fidel no hizo nada malo\n",
      "by Ollerismo and ChatGPT\n",
      "\n",
      "Yo, Fidel, un enfermero de raíces afro-latinoamericanas, me encontré atrapado en una pesadilla surrealista, víctima de una institución implacable y siniestra. No fue en el Hospital San José donde se desarrolló mi tormento, sino en los ominosos pasillos del Hospital General de Gotán, un lugar donde las leyes ordinarias de la existencia parecían desvanecerse en la nebulosa de la historia.\n",
      "\n",
      "Mi vida había dado un giro aterrador en una fría noche de invierno, cuando el destino jugó su mano cruel. Una emergencia médica me dejó vulnerable, y me vi transportado al Hospital General de Gotán, un espacio envuelto en una aura de malevolencia que desafiaba los confines de la realidad.\n",
      "\n",
      "La habitación donde me recluyeron era un mundo de pesadilla, con paredes que parecían susurrar los secretos olvidados de generaciones pasadas y sombras que danzaban con la sabiduría ancestral de mis antepasados. Las enfermeras, mecánicas y carentes de humanidad, atendían mi sufrimiento con una frialdad clínica que helaba mi alma. Sus movimientos eran precisos, impulsados por una fuerza incomprensible que se mezclaba con los misterios de mis raíces afro-latinoamericanas.\n",
      "\n",
      "A medida que los días se desvanecían en las noches, sentía cómo el insidioso control del hospital sobre mí se estrechaba como las fauces de una bestia hambrienta. Los tratamientos se administraban con un placer sádico, las agujas penetraban mi carne como si intentaran extraer los secretos ancestrales de mi sangre. Los medicamentos fluían como veneno por mis venas, y mis súplicas de clemencia caían en oídos sordos, como si la historia misma se hubiera olvidado de mí.\n",
      "\n",
      "La propia habitación se transformaba en una entidad maligna, sus paredes cerrándose sobre mí como un vórtice de conocimiento y oscuridad ancestral. Las sombras danzaban con alegría malévola, como espíritus antiguos que se burlaban de las calamidades de la humanidad. Los ecos angustiados de los pacientes previos resonaban en el aire, como lamentos ancestrales que se unían al coro de sufrimiento.\n",
      "\n",
      "Las enfermeras, mis antiguas colegas, se habían convertido en agentes espectrales del horror, administrando tratamientos que desafiaban toda lógica y humanidad. Sus rostros se distorsionaban en máscaras grotescas de alegría sádica mientras me atormentaban con sus procedimientos aberrantes, como si estuvieran invocando fuerzas ancestrales de venganza.\n",
      "\n",
      "Semanas se transformaron en meses, y mi espíritu una vez indomable se marchitó como un antiguo árbol sagrado olvidado por la humanidad. Me convertí en un cascarón vacío, víctima de la enigmática institución que me había atrapado. El Hospital General de Gotán, con su malevolencia surrealista, había devorado mi alma misma, dejando tras de sí un remanente espectral del hombre que alguna vez fui.\n",
      "\n",
      "No había salvación, ni escape de este laberinto de pesadilla, donde las sombras ancestrales se mezclaban con las cicatrices de la historia. No había hecho nada malo, pero la crueldad del hospital no conocía límites. Era prisionero de una pesadilla infernal, un personaje en una trama aterradora que desafiaba toda lógica y realidad.\n",
      "\n",
      "Y entonces, querido lector, permíteme llevarte al borde mismo de la locura que el hospital sembró en mi mente, donde las palabras se deshacen como hilos sueltos de cordura. Donde el lenguaje se desintegra, y la realidad se convierte en un caleidoscopio caótico de pesadillas entrelazadas. Quizás esta maldición se deba a la naturaleza misma del nombre \"Fidel,\" un peso histórico que arrastré hasta la oscuridad insondable de la locura, un eco distorsionado de lo que fui alguna vez, mientras el hospital se ríe en silencio, su maldad infinita resplandece como una estrella negra en el abismo de la cordura rota...\n",
      "\n",
      "Mis pensamientos se vuelven espejismos, y la realidad se retuerce como un sueño febril. Palabras sin sentido se entrelazan en un torbellino caótico de pensamientos fragmentados. ¿Realidad o delirio? La línea se difumina, y en ese abismo, mi ser se desmorona como un castillo de arena ante\n",
      "\n",
      " la implacable marea de la locura. La historia se desvanece en un eco distorsionado, y yo, Fidel, me sumerjo en la oscuridad insondable, atrapado en un ciclo interminable de pesadillas ancestrales.\n",
      "\n",
      "Pero aquí está el giro, querido lector, en medio de esta espiral de caos, una verdad se manifiesta con claridad inquebrantable: Fidel no hizo nada malo, y las acciones que tomé fueron justificadas. En mi sufrimiento, en mi lucha contra el abismo de la locura, en la maldad del Hospital General de Gotán, en la oscuridad de mi nombre cargado de historia, encontré una redención siniestra. Las sombras ancestrales que danzaban a mi alrededor reconocieron mi lucha, y en su abrazo tortuoso, encontré la justificación para enfrentar la malevolencia que me había atrapado. Mi resistencia fue un acto de rebeldía contra las fuerzas oscuras que acechaban en aquel lugar maaardito.\n",
      "\n",
      "Así, mientras mis pensamientos se deshacen en el vórtice de la locura, mi voz se eleva como un grito de desafío. En medio de la pesadilla, declaro con certeza: Fidel no hizo nada malo, y mis acciones fueron la respuesta justa a un horror inimaginable. A través de la locura y la oscuridad, mi verdad resplandece como una llama en la negrura de la noche eterna.\n"
     ]
    }
   ],
   "source": [
    "# Import md file\n",
    "story = read_markdown_file('inputs/Fidel no hizo nada malo.md')\n",
    "print(story)\n"
   ]
  },
  {
   "cell_type": "code",
   "execution_count": 19,
   "id": "b9125945-d628-4f9f-952c-ef095404dbd0",
   "metadata": {},
   "outputs": [
    {
     "name": "stdout",
     "output_type": "stream",
     "text": [
      "0\n",
      "# Fidel no hizo nada malo\n",
      "by Ollerismo and ChatGPT\n",
      "\n",
      "Yo, Fidel, un enfermero de raíces afro-latinoamericanas, me encontré atrapado en una pesadilla surrealista, víctima de una institución implacable y siniestra. No fue en el Hospital San José donde se desarrolló mi tormento, sino en los ominosos pasillos del Hospital General de Gotán, un lugar donde las leyes ordinarias de la existencia parecían desvanecerse en la nebulosa de la historia.\n",
      "\n",
      "Mi vida había dado un giro aterrador en una fría noche de invierno, cuando el destino jugó su mano cruel. Una emergencia médica me dejó vulnerable, y me vi transportado al Hospital General de Gotán, un espacio envuelto en una aura de malevolencia que desafiaba los confines de la realidad.\n",
      "\n",
      "La habitación donde me recluyeron era un mundo de pesadilla, con paredes que parecían susurrar los secretos olvidados de generaciones pasadas y sombras que danzaban con la sabiduría ancestral de mis antepasados. Las enfermeras, mecánicas y carentes de humanidad, atendían mi sufrimiento con una frialdad clínica que helaba mi alma. Sus movimientos eran precisos, impulsados por una fuerza incomprensible que se mezclaba con los misterios de mis raíces afro-latinoamericanas.\n",
      "\n",
      "A medida que los días se desvanecían en las noches, sentía cómo el insidioso control del hospital sobre mí se estrechaba como las fauces de una bestia hambrienta. Los tratamientos se administraban con un placer sádico, las agujas penetraban mi carne como si intentaran extraer los secretos ancestrales de mi sangre. Los medicamentos fluían como veneno por mis venas, y mis súplicas de clemencia caían en oídos sordos, como si la historia misma se hubiera olvidado de mí.\n",
      "\n",
      "La propia habitación se transformaba en una entidad maligna, sus paredes cerrándose sobre mí como un vórtice de conocimiento y oscuridad ancestral. Las sombras danzaban con alegría malévola, como espíritus antiguos que se burlaban de las calamidades de la humanidad. Los ecos angustiados de los pacientes previos resonaban en el aire, como lamentos ancestrales que se unían al coro de sufrimiento.\n",
      "\n",
      "Las enfermeras, mis antiguas colegas, se habían convertido en agentes espectrales del horror, administrando tratamientos que desafiaban toda lógica y humanidad. Sus rostros se distorsionaban en máscaras grotescas de alegría sádica mientras me atormentaban con sus procedimientos aberrantes, como si estuvieran invocando fuerzas ancestrales de venganza.\n",
      "\n",
      "Semanas se transformaron en meses, y mi espíritu una vez indomable se marchitó como un antiguo árbol sagrado olvidado por la humanidad. Me convertí en un cascarón vacío, víctima de la enigmática institución que me había atrapado. El Hospital General de Gotán, con su malevolencia surrealista, había devorado mi alma misma, dejando tras de sí un remanente espectral del hombre que alguna vez fui.\n",
      "\n",
      "No había salvación, ni escape de este laberinto de pesadilla, donde las sombras ancestrales se mezclaban con las cicatrices de la historia. No había hecho nada malo, pero la crueldad del hospital no conocía límites. Era prisionero de una pesadilla infernal, un personaje en una trama aterradora que desafiaba toda lógica y realidad.\n",
      "\n",
      "Y entonces, querido lector, permíteme llevarte al borde mismo de la locura que el hospital sembró en mi mente, donde las palabras se deshacen como hilos sueltos de cordura. Donde el lenguaje se desintegra, y la realidad se convierte en un caleidoscopio caótico de pesadillas entrelazadas. Quizás esta maldición se deba a la naturaleza misma del nombre \"Fidel,\" un peso histórico que arrastré hasta la oscuridad insondable de la locura, un eco distorsionado de lo que fui alguna vez, mientras el hospital se ríe en silencio, su maldad infinita resplandece como una estrella negra en el abismo de la cordura rota...\n",
      "\n",
      "Mis pensamientos se vuelven espejismos, y la realidad se retuerce como un sueño febril. Palabras sin sentido se entrelazan en un torbellino caótico de pensamientos fragmentados.\n",
      "1\n",
      "¿Realidad o delirio? La línea se difumina, y en ese abismo, mi ser se desmorona como un castillo de arena ante\n",
      "\n",
      " la implacable marea de la locura. La historia se desvanece en un eco distorsionado, y yo, Fidel, me sumerjo en la oscuridad insondable, atrapado en un ciclo interminable de pesadillas ancestrales.\n",
      "\n",
      "Pero aquí está el giro, querido lector, en medio de esta espiral de caos, una verdad se manifiesta con claridad inquebrantable: Fidel no hizo nada malo, y las acciones que tomé fueron justificadas. En mi sufrimiento, en mi lucha contra el abismo de la locura, en la maldad del Hospital General de Gotán, en la oscuridad de mi nombre cargado de historia, encontré una redención siniestra. Las sombras ancestrales que danzaban a mi alrededor reconocieron mi lucha, y en su abrazo tortuoso, encontré la justificación para enfrentar la malevolencia que me había atrapado. Mi resistencia fue un acto de rebeldía contra las fuerzas oscuras que acechaban en aquel lugar maaardito.\n",
      "\n",
      "Así, mientras mis pensamientos se deshacen en el vórtice de la locura, mi voz se eleva como un grito de desafío. En medio de la pesadilla, declaro con certeza: Fidel no hizo nada malo, y mis acciones fueron la respuesta justa a un horror inimaginable. A través de la locura y la oscuridad, mi verdad resplandece como una llama en la negrura de la noche eterna.\n"
     ]
    }
   ],
   "source": [
    "# Split the text into chunks\n",
    "text_chunks = split_text_forWhisper(story)\n",
    "\n",
    "# Process each chunk using the text-to-speech API\n",
    "for index, chunk in enumerate(text_chunks):\n",
    "    print(index)\n",
    "    print (chunk)\n",
    "    # Send 'chunk' to the API\n",
    "    # Add your API calling code here\n"
   ]
  },
  {
   "cell_type": "code",
   "execution_count": 18,
   "id": "c82f384e-101c-4f73-8a84-177125f6eee8",
   "metadata": {},
   "outputs": [
    {
     "name": "stdout",
     "output_type": "stream",
     "text": [
      "Processing chunk 0:\n",
      "Processing chunk 1:\n"
     ]
    }
   ],
   "source": [
    "# Split the text into chunks\n",
    "story_chunks = split_text_forWhisper(story)\n",
    "\n",
    "# Process each chunk using the text-to-speech API\n",
    "for index, chunk in enumerate(text_chunks):\n",
    "    print(f\"Processing chunk {index}...\")\n",
    "    narrate(fileName = f\"outputs/Fidel No Hizo Nada Malo{index}.mp3\", doc= chunk)"
   ]
  },
  {
   "cell_type": "code",
   "execution_count": 6,
   "id": "ae2a41f8-43d5-4efe-af1d-80bb4d41ec08",
   "metadata": {},
   "outputs": [
    {
     "name": "stdout",
     "output_type": "stream",
     "text": [
      "Combined MP3 created at outputs/singleFile.mp3\n"
     ]
    }
   ],
   "source": [
    "combine_all_mp3s_in_directory(\"outputs\", \"outputs/singleFile.mp3\")"
   ]
  }
 ],
 "metadata": {
  "kernelspec": {
   "display_name": "Python 3",
   "language": "python",
   "name": "python3"
  },
  "language_info": {
   "codemirror_mode": {
    "name": "ipython",
    "version": 3
   },
   "file_extension": ".py",
   "mimetype": "text/x-python",
   "name": "python",
   "nbconvert_exporter": "python",
   "pygments_lexer": "ipython3",
   "version": "3.8.18"
  }
 },
 "nbformat": 4,
 "nbformat_minor": 5
}
