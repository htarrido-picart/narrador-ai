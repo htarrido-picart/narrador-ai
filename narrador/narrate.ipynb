{
 "cells": [
  {
   "cell_type": "code",
   "execution_count": null,
   "id": "943a4db1-4013-4cf0-85bc-bc3530dd7f0f",
   "metadata": {},
   "outputs": [],
   "source": [
    "import narrador"
   ]
  },
  {
   "cell_type": "code",
   "execution_count": null,
   "id": "a1777f85-3323-42b0-88a5-e42489dc25e6",
   "metadata": {},
   "outputs": [],
   "source": [
    "# Import md file\n",
    "story = read_markdown_file('inputs/Fidel no hizo nada malo.md')\n",
    "print(story)\n"
   ]
  },
  {
   "cell_type": "code",
   "execution_count": null,
   "id": "b9125945-d628-4f9f-952c-ef095404dbd0",
   "metadata": {},
   "outputs": [],
   "source": [
    "# Split the text into chunks\n",
    "text_chunks = split_text_forWhisper(story)\n",
    "\n",
    "# Process each chunk using the text-to-speech API\n",
    "for index, chunk in enumerate(text_chunks):\n",
    "    print(index)\n",
    "    print (chunk)\n",
    "    # Send 'chunk' to the API\n",
    "    # Add your API calling code here\n"
   ]
  },
  {
   "cell_type": "code",
   "execution_count": null,
   "id": "c82f384e-101c-4f73-8a84-177125f6eee8",
   "metadata": {},
   "outputs": [],
   "source": [
    "# Split the text into chunks\n",
    "story_chunks = split_text_forWhisper(story)\n",
    "\n",
    "# Process each chunk using the text-to-speech API\n",
    "for index, chunk in enumerate(text_chunks):\n",
    "    print(f\"Processing chunk {index}...\")\n",
    "    narrate(fileName = f\"outputs/test.mp3\", doc= chunk)"
   ]
  },
  {
   "cell_type": "code",
   "execution_count": null,
   "id": "ae2a41f8-43d5-4efe-af1d-80bb4d41ec08",
   "metadata": {},
   "outputs": [],
   "source": [
    "combine_all_mp3s_in_directory(\"outputs\", \"outputs/test_final.mp3\")"
   ]
  },
  {
   "cell_type": "code",
   "execution_count": null,
   "id": "0686761c-6585-4979-81d5-205a169871ba",
   "metadata": {},
   "outputs": [],
   "source": []
  }
 ],
 "metadata": {
  "kernelspec": {
   "display_name": "Python 3",
   "language": "python",
   "name": "python3"
  },
  "language_info": {
   "codemirror_mode": {
    "name": "ipython",
    "version": 3
   },
   "file_extension": ".py",
   "mimetype": "text/x-python",
   "name": "python",
   "nbconvert_exporter": "python",
   "pygments_lexer": "ipython3",
   "version": "3.8.18"
  }
 },
 "nbformat": 4,
 "nbformat_minor": 5
}
