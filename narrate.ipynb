{
 "cells": [
  {
   "cell_type": "code",
   "execution_count": 1,
   "id": "943a4db1-4013-4cf0-85bc-bc3530dd7f0f",
   "metadata": {},
   "outputs": [],
   "source": [
    "import os\n",
    "import openai\n",
    "\n",
    "openai.api_key = os.getenv('OPENAI_API_KEY')"
   ]
  },
  {
   "cell_type": "code",
   "execution_count": 15,
   "id": "fa2010ac-33b8-448c-ad30-0c85ed855164",
   "metadata": {},
   "outputs": [],
   "source": [
    "from pathlib import Path\n",
    "from openai import OpenAI\n",
    "client = OpenAI()\n",
    "\n",
    "def narrate(fileName: str, \n",
    "        voice: str = \"onyx\", \n",
    "        doc = str):\n",
    "    speech_file_path = os.path.join(os.getcwd(), fileName)\n",
    "\n",
    "    response = client.audio.speech.create(\n",
    "      model=\"tts-1-hd\",\n",
    "      voice=\"onyx\",\n",
    "      input= doc\n",
    "    )\n",
    "\n",
    "    response.stream_to_file(speech_file_path)\n",
    "\n"
   ]
  },
  {
   "cell_type": "code",
   "execution_count": 17,
   "id": "c82f384e-101c-4f73-8a84-177125f6eee8",
   "metadata": {},
   "outputs": [],
   "source": [
    "narrate(fileName = \"prueba3.mp3\", doc= \"Un dos tres probando... probando, dos cinco cuatro. Probando.\")"
   ]
  },
  {
   "cell_type": "code",
   "execution_count": null,
   "id": "ae2a41f8-43d5-4efe-af1d-80bb4d41ec08",
   "metadata": {},
   "outputs": [],
   "source": []
  }
 ],
 "metadata": {
  "kernelspec": {
   "display_name": "Python 3",
   "language": "python",
   "name": "python3"
  },
  "language_info": {
   "codemirror_mode": {
    "name": "ipython",
    "version": 3
   },
   "file_extension": ".py",
   "mimetype": "text/x-python",
   "name": "python",
   "nbconvert_exporter": "python",
   "pygments_lexer": "ipython3",
   "version": "3.8.18"
  }
 },
 "nbformat": 4,
 "nbformat_minor": 5
}
